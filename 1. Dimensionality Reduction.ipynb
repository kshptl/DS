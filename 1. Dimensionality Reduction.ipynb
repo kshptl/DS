{
 "cells": [
  {
   "cell_type": "code",
   "execution_count": 2,
   "id": "71bad2cd-9fab-4b0f-ba9a-a6b65d77fef4",
   "metadata": {},
   "outputs": [],
   "source": [
    "import pandas as pd\n",
    "import numpy as np\n",
    "import matplotlib.pyplot as plt\n",
    "from sklearn.decomposition import PCA\n",
    "\n",
    "#//numerical integration in python?"
   ]
  },
  {
   "cell_type": "code",
   "execution_count": 4,
   "id": "de5af00e-df7f-4570-8521-0675ecc3b24c",
   "metadata": {},
   "outputs": [],
   "source": [
    "df = pd.read_excel('Material_Database_Prediction.xlsx', skiprows=1)\n",
    "df.columns = df.iloc[0]\n",
    "df = df[2:]"
   ]
  },
  {
   "cell_type": "code",
   "execution_count": 5,
   "id": "02566067-eaab-44c3-97b7-50ee85319695",
   "metadata": {},
   "outputs": [],
   "source": [
    "x = df[df.columns[2:19]].dropna() # input data\n",
    "y = df[df.columns[19:]] # response data"
   ]
  },
  {
   "cell_type": "code",
   "execution_count": 6,
   "id": "27eae91c-a940-4651-b3a2-6223fae236d4",
   "metadata": {},
   "outputs": [
    {
     "name": "stdout",
     "output_type": "stream",
     "text": [
      "[0.48302721 0.40696449 0.0686427 ]\n",
      "[1173.78235361 1077.40760509  442.48541716]\n"
     ]
    }
   ],
   "source": [
    "## Perform PCA for dimensionality reduction\n",
    "\n",
    "\n",
    "pca = PCA(n_components=0.90) # use number of components that will explain at least 90% of the data.\n",
    "pca.fit(x)\n",
    "\n",
    "print(pca.explained_variance_ratio_)\n",
    "print(pca.singular_values_)\n",
    "\n",
    "x_reduced = pca.fit_transform(x)"
   ]
  },
  {
   "cell_type": "code",
   "execution_count": 8,
   "id": "a844d895-3fea-427a-a2ec-b329e4ffe336",
   "metadata": {},
   "outputs": [
    {
     "data": {
      "text/plain": [
       "numpy.ndarray"
      ]
     },
     "execution_count": 8,
     "metadata": {},
     "output_type": "execute_result"
    }
   ],
   "source": [
    "np.savetxt()"
   ]
  },
  {
   "cell_type": "code",
   "execution_count": null,
   "id": "3fcab201-6a91-433c-8788-74e78bf9a0d4",
   "metadata": {},
   "outputs": [],
   "source": []
  }
 ],
 "metadata": {
  "kernelspec": {
   "display_name": "Python 3.8.13 64-bit ('env')",
   "language": "python",
   "name": "python3"
  },
  "language_info": {
   "codemirror_mode": {
    "name": "ipython",
    "version": 3
   },
   "file_extension": ".py",
   "mimetype": "text/x-python",
   "name": "python",
   "nbconvert_exporter": "python",
   "pygments_lexer": "ipython3",
   "version": "3.8.13"
  },
  "vscode": {
   "interpreter": {
    "hash": "237016ae76a2669f70e77710de4e452a66145134d50cb6f60d551f805c03c9ec"
   }
  }
 },
 "nbformat": 4,
 "nbformat_minor": 5
}
