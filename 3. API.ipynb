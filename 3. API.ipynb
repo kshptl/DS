{
 "cells": [
  {
   "cell_type": "markdown",
   "id": "738ca4db-5f0d-42cc-8406-846ab5ae30bc",
   "metadata": {},
   "source": [
    "### 1. Start app by running \"python app.py\""
   ]
  },
  {
   "cell_type": "markdown",
   "id": "59748c3a-bc61-46f6-91d0-4e2ef34c55c5",
   "metadata": {},
   "source": [
    "### 2. Test app:"
   ]
  },
  {
   "cell_type": "code",
   "execution_count": 1,
   "id": "11b9ea41-2926-4064-ba41-23a0acd2efe6",
   "metadata": {},
   "outputs": [],
   "source": [
    "import pandas as pd\n",
    "import numpy as np\n",
    "import json\n",
    "import requests\n",
    "from sklearn.model_selection import train_test_split"
   ]
  },
  {
   "cell_type": "code",
   "execution_count": 2,
   "id": "1007acec-38e5-47a1-9b39-a3d4de5bbd48",
   "metadata": {},
   "outputs": [],
   "source": [
    "## Import Data and split input (x) and output (y) data\n",
    "df = pd.read_csv('reduced_data.csv')\n",
    "\n",
    "# Use the last 20% as test data\n",
    "X_train, X_test, y_train, y_test = \\\n",
    "    train_test_split(df[df.columns[:3]], df['Ts_R'], test_size=0.2, random_state=12)"
   ]
  },
  {
   "cell_type": "code",
   "execution_count": 141,
   "id": "12aac791-1c4e-4a84-919f-0ae9b5b34fc3",
   "metadata": {},
   "outputs": [],
   "source": [
    "# Serialize the data into json and send the request to the model\n",
    "payload = {'data' : X_test.values.tolist()}\n",
    "y_predict = requests.post('http://127.0.0.1:5000/material', json=payload).json()"
   ]
  },
  {
   "cell_type": "code",
   "execution_count": 140,
   "id": "7d1a42be-8471-46d7-9e44-7d7d256eae85",
   "metadata": {},
   "outputs": [
    {
     "name": "stdout",
     "output_type": "stream",
     "text": [
      "[1.1008     1.26702444 0.877415   1.12895556 1.12325222 1.00531944\n",
      " 1.30481111 1.11829444 0.87781    1.199925   1.19851944]\n"
     ]
    }
   ],
   "source": [
    "# Make array from the list\n",
    "y_predict = np.array(y_predict)\n",
    "print(y_predict)"
   ]
  },
  {
   "cell_type": "code",
   "execution_count": null,
   "id": "b0974202-8ba4-4963-9a16-cb94d7a2aedf",
   "metadata": {},
   "outputs": [],
   "source": []
  }
 ],
 "metadata": {
  "kernelspec": {
   "display_name": "Python 3 (ipykernel)",
   "language": "python",
   "name": "python3"
  },
  "language_info": {
   "codemirror_mode": {
    "name": "ipython",
    "version": 3
   },
   "file_extension": ".py",
   "mimetype": "text/x-python",
   "name": "python",
   "nbconvert_exporter": "python",
   "pygments_lexer": "ipython3",
   "version": "3.8.13"
  }
 },
 "nbformat": 4,
 "nbformat_minor": 5
}
